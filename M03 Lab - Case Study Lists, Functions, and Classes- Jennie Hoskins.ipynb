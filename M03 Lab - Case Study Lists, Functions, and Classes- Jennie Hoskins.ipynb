{
 "cells": [
  {
   "cell_type": "code",
   "execution_count": 24,
   "id": "96f0b7f4",
   "metadata": {},
   "outputs": [
    {
     "name": "stdout",
     "output_type": "stream",
     "text": [
      "What type of vehicle do you have? car\n",
      "What year was the car made? 2022\n",
      "What is the make of the car? toyota\n",
      "What is the model of the car? corolla\n",
      "Does the car have 2 or 4 doors? 4\n",
      "Does the car have a solid roof or a sun roof? solid\n",
      "\n",
      "\n",
      "Vehicle type: car\n",
      "Year: 2022\n",
      "Make: toyota\n",
      "Model: corolla\n",
      "Number of doors: 4\n",
      "Type of roof: solid\n"
     ]
    }
   ],
   "source": [
    "class Vehicle():\n",
    "    \n",
    "    def __init__(self, vehicle_type):\n",
    "        self.vehicle_type = vehicle_type\n",
    "\n",
    "    def __str__(self):\n",
    "        return f\"Vehicle type: {self.vehicle_type}\"\n",
    "\n",
    "\n",
    "class Automobile(Vehicle):\n",
    "    \n",
    "    def __init__(self, vehicle_type, year, make, model, doors, roof):\n",
    "        super().__init__(vehicle_type)\n",
    "        self.year = year\n",
    "        self.make = make\n",
    "        self.model = model\n",
    "        self.doors = doors\n",
    "        self.roof = roof\n",
    "    def __str__(self):\n",
    "        return f\"{super().__str__()}\\nYear: {self.year}\\nMake: {self.make}\\nModel: {self.model}\\nNumber of doors: {self.doors}\\nType of roof: {self.roof}\"\n",
    "\n",
    "def main():\n",
    "    vehicle_type = (input(\"What type of vehicle do you have? \"))\n",
    "    year = (input(\"What year was the car made? \"))\n",
    "    make = (input(\"What is the make of the car? \"))\n",
    "    model = (input(\"What is the model of the car? \"))\n",
    "    doors = (input(\"Does the car have 2 or 4 doors? \"))\n",
    "    roof = (input(\"Does the car have a solid roof or a sun roof? \"))\n",
    "    print()\n",
    "    print()\n",
    "    car = Automobile(vehicle_type, year, make, model, doors, roof)\n",
    "    print(car)\n",
    "\n",
    "if __name__ == \"__main__\":\n",
    "    main()"
   ]
  },
  {
   "cell_type": "code",
   "execution_count": null,
   "id": "90cdd114",
   "metadata": {},
   "outputs": [],
   "source": []
  },
  {
   "cell_type": "code",
   "execution_count": null,
   "id": "60a6f293",
   "metadata": {},
   "outputs": [],
   "source": []
  }
 ],
 "metadata": {
  "kernelspec": {
   "display_name": "Python 3 (ipykernel)",
   "language": "python",
   "name": "python3"
  },
  "language_info": {
   "codemirror_mode": {
    "name": "ipython",
    "version": 3
   },
   "file_extension": ".py",
   "mimetype": "text/x-python",
   "name": "python",
   "nbconvert_exporter": "python",
   "pygments_lexer": "ipython3",
   "version": "3.10.9"
  }
 },
 "nbformat": 4,
 "nbformat_minor": 5
}
